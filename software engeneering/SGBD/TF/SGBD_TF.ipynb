{
  "nbformat": 4,
  "nbformat_minor": 0,
  "metadata": {
    "colab": {
      "name": "SGBD_TF.ipynb",
      "provenance": [],
      "collapsed_sections": [
        "hkzLhbYqvPek"
      ]
    },
    "kernelspec": {
      "name": "python3",
      "display_name": "Python 3"
    },
    "language_info": {
      "name": "python"
    }
  },
  "cells": [
    {
      "cell_type": "markdown",
      "metadata": {
        "id": "F36xJvBtndr_"
      },
      "source": [
        "# Grupo 5\n",
        "\n",
        "---\n",
        "\n",
        "\n",
        "**Objetivo**: considerando a base de dados de músicas do Spotify, construir um modelo que, levando em consideração a duração de uma música e se ela é explícita ou não, prevê a popularidade desta faixa.\n",
        "\n",
        "**Dataset**: músicas do Spotify\n",
        "\n",
        "**Coluna Alvo**: popularity\n",
        "\n",
        "\n",
        "---\n",
        "\n"
      ]
    },
    {
      "cell_type": "markdown",
      "metadata": {
        "id": "R0k08ORl5gUF"
      },
      "source": [
        "## Dataset\n"
      ]
    },
    {
      "cell_type": "markdown",
      "metadata": {
        "id": "hkzLhbYqvPek"
      },
      "source": [
        "\n",
        "O dataset deste trabalho foi obtido através da [API][1] do Spotify. Utilizamos o endpoint de recuperar a [playlist de musicas curtidas do usuário][2]. Esse processo foi feito da seguinte maneira:\n",
        "\n",
        "### Inicialização\n",
        "\n",
        "Algumas das bibliotecas e constantes a serem usadas no código.\n",
        "\n",
        "```python\n",
        "#!/usr/bin/env python\n",
        "# -*- coding: utf-8 -*-\n",
        "\n",
        "import json\n",
        "import requests\n",
        "from dotenv import load_dotenv\n",
        "from collections import defaultdict\n",
        "\n",
        "load_dotenv()\n",
        "LIMIT = 50 #limite de músicas por request\n",
        "OAUTH_TOKEN = os.environ.OAUTH_TOKEN\n",
        "```\n",
        "\n",
        "### Método principal\n",
        "\n",
        "Onde definimos a url com a quantidade de músicas que queremos recuperar por request e a estrutura de dados que queremos utilizar.\n",
        "\n",
        "```python\n",
        "def main():\n",
        "    next_url = f\"https://api.spotify.com/v1/me/tracks?limit={LIMIT}\"\n",
        "    data = dict()\n",
        "    while next_url:\n",
        "        response = requests.get(url=next_url,\n",
        "                                headers={\n",
        "                                    \"Accept\": \"application/json\",\n",
        "                                    \"Content-Type\": \"application/json\",\n",
        "                                    \"Authorization\": OAUTH_TOKEN\n",
        "                                })\n",
        "\n",
        "        if not response:\n",
        "            print(response.status_code)\n",
        "\n",
        "        response = response.json()\n",
        "```\n",
        "\n",
        "A resposta padrão para uma única música segue este estilo: (Para facilitar a visualização ocultamos os mercados disponíveis)\n",
        "\n",
        "```json\n",
        "{\n",
        "    \"href\": \"https://api.spotify.com/v1/me/tracks?offset=0&limit=1&locale=pt-BR,pt;q=0.9,en;q=0.8\",\n",
        "    \"items\": [\n",
        "        {\n",
        "            \"added_at\": \"2021-11-22T12:49:30Z\",\n",
        "            \"track\": {\n",
        "                \"album\": {\n",
        "                    \"album_type\": \"single\",\n",
        "                    \"artists\": [\n",
        "                        {\n",
        "                            \"external_urls\": {\n",
        "                                \"spotify\": \"https://open.spotify.com/artist/1Rg9lThlSiYDl8b6z1bpg0\"\n",
        "                            },\n",
        "                            \"href\": \"https://api.spotify.com/v1/artists/1Rg9lThlSiYDl8b6z1bpg0\",\n",
        "                            \"id\": \"1Rg9lThlSiYDl8b6z1bpg0\",\n",
        "                            \"name\": \"Nick Cruz\",\n",
        "                            \"type\": \"artist\",\n",
        "                            \"uri\": \"spotify:artist:1Rg9lThlSiYDl8b6z1bpg0\"\n",
        "                        },\n",
        "                        {\n",
        "                            \"external_urls\": {\n",
        "                                \"spotify\": \"https://open.spotify.com/artist/6BXiBj4eAZsiynbcmSRHUs\"\n",
        "                            },\n",
        "                            \"href\": \"https://api.spotify.com/v1/artists/6BXiBj4eAZsiynbcmSRHUs\",\n",
        "                            \"id\": \"6BXiBj4eAZsiynbcmSRHUs\",\n",
        "                            \"name\": \"Urias\",\n",
        "                            \"type\": \"artist\",\n",
        "                            \"uri\": \"spotify:artist:6BXiBj4eAZsiynbcmSRHUs\"\n",
        "                        }\n",
        "                    ],\n",
        "                    \"available_markets\": [ ... ],\n",
        "                    \"external_urls\": {\n",
        "                        \"spotify\": \"https://open.spotify.com/album/7MivQ2d8PX42LfAZGkTfFW\"\n",
        "                    },\n",
        "                    \"href\": \"https://api.spotify.com/v1/albums/7MivQ2d8PX42LfAZGkTfFW\",\n",
        "                    \"id\": \"7MivQ2d8PX42LfAZGkTfFW\",\n",
        "                    \"images\": [\n",
        "                        {\n",
        "                            \"height\": 640,\n",
        "                            \"url\": \"https://i.scdn.co/image/ab67616d0000b2731883a3a7df2db0eb8f3029bb\",\n",
        "                            \"width\": 640\n",
        "                        },\n",
        "                        {\n",
        "                            \"height\": 300,\n",
        "                            \"url\": \"https://i.scdn.co/image/ab67616d00001e021883a3a7df2db0eb8f3029bb\",\n",
        "                            \"width\": 300\n",
        "                        },\n",
        "                        {\n",
        "                            \"height\": 64,\n",
        "                            \"url\": \"https://i.scdn.co/image/ab67616d000048511883a3a7df2db0eb8f3029bb\",\n",
        "                            \"width\": 64\n",
        "                        }\n",
        "                    ],\n",
        "                    \"name\": \"Cato Cato\",\n",
        "                    \"release_date\": \"2021-09-10\",\n",
        "                    \"release_date_precision\": \"day\",\n",
        "                    \"total_tracks\": 1,\n",
        "                    \"type\": \"album\",\n",
        "                    \"uri\": \"spotify:album:7MivQ2d8PX42LfAZGkTfFW\"\n",
        "                },\n",
        "                \"artists\": [\n",
        "                    {\n",
        "                        \"external_urls\": {\n",
        "                            \"spotify\": \"https://open.spotify.com/artist/1Rg9lThlSiYDl8b6z1bpg0\"\n",
        "                        },\n",
        "                        \"href\": \"https://api.spotify.com/v1/artists/1Rg9lThlSiYDl8b6z1bpg0\",\n",
        "                        \"id\": \"1Rg9lThlSiYDl8b6z1bpg0\",\n",
        "                        \"name\": \"Nick Cruz\",\n",
        "                        \"type\": \"artist\",\n",
        "                        \"uri\": \"spotify:artist:1Rg9lThlSiYDl8b6z1bpg0\"\n",
        "                    },\n",
        "                    {\n",
        "                        \"external_urls\": {\n",
        "                            \"spotify\": \"https://open.spotify.com/artist/6BXiBj4eAZsiynbcmSRHUs\"\n",
        "                        },\n",
        "                        \"href\": \"https://api.spotify.com/v1/artists/6BXiBj4eAZsiynbcmSRHUs\",\n",
        "                        \"id\": \"6BXiBj4eAZsiynbcmSRHUs\",\n",
        "                        \"name\": \"Urias\",\n",
        "                        \"type\": \"artist\",\n",
        "                        \"uri\": \"spotify:artist:6BXiBj4eAZsiynbcmSRHUs\"\n",
        "                    }\n",
        "                ],\n",
        "                \"available_markets\": [ ... ],\n",
        "                \"disc_number\": 1,\n",
        "                \"duration_ms\": 179711,\n",
        "                \"explicit\": true,\n",
        "                \"external_ids\": {\n",
        "                    \"isrc\": \"BRWMB2100651\"\n",
        "                },\n",
        "                \"external_urls\": {\n",
        "                    \"spotify\": \"https://open.spotify.com/track/4miqOLaV1W50mx4KMPEBhy\"\n",
        "                },\n",
        "                \"href\": \"https://api.spotify.com/v1/tracks/4miqOLaV1W50mx4KMPEBhy\",\n",
        "                \"id\": \"4miqOLaV1W50mx4KMPEBhy\",\n",
        "                \"is_local\": false,\n",
        "                \"name\": \"Cato Cato\",\n",
        "                \"popularity\": 41,\n",
        "                \"preview_url\": \"https://p.scdn.co/mp3-preview/724734854e0fb1903a083b7da2b1a589169a29b0?cid=774b29d4f13844c495f206cafdad9c86\",\n",
        "                \"track_number\": 1,\n",
        "                \"type\": \"track\",\n",
        "                \"uri\": \"spotify:track:4miqOLaV1W50mx4KMPEBhy\"\n",
        "            }\n",
        "        }\n",
        "    ],\n",
        "    \"limit\": 1,\n",
        "    \"next\": \"https://api.spotify.com/v1/me/tracks?offset=1&limit=1&locale=pt-BR,pt;q=0.9,en;q=0.8\",\n",
        "    \"offset\": 0,\n",
        "    \"previous\": null,\n",
        "    \"total\": 2436\n",
        "}\n",
        "```\n",
        "\n",
        "Tendo em vista a estrutura anterior, extraimos os dados que achamos pertinente o uso.\n",
        "\n",
        "Os dados que queremos extrair para montar nosso dataset são:\n",
        "\n",
        "- ISRC (ID da música);\n",
        "- Nome;\n",
        "- Quando foi adicionado (data e hora);\n",
        "- Os artistas;\n",
        "- Duração;\n",
        "- Se é explicito;\n",
        "- Popularidade;\n",
        "\n",
        "É necessário fazer um pequeno processamento para separar a data e hora.\n",
        "\n",
        "```python\n",
        "        for item in response[\"items\"]:\n",
        "            date_hour = item[\"added_at\"].split(\"T\")\n",
        "            date = \"\".join(date_hour[0].split(\"-\"))\n",
        "            hour = \"\".join(date_hour[1].split(\":\"))\n",
        "            isrc = item[\"track\"][\"external_ids\"][\"isrc\"]\n",
        "            data[isrc] = {\n",
        "                \"name\": item[\"track\"][\"name\"],\n",
        "                \"added_at\": {\n",
        "                    \"date\": date,\n",
        "                    \"hour\": hour,\n",
        "                },\n",
        "                \"artists\":\n",
        "                [artist[\"name\"] for artist in item[\"track\"][\"artists\"]],\n",
        "                \"duration_ms\": item[\"track\"][\"duration_ms\"],\n",
        "                \"explicit\": item[\"track\"][\"explicit\"],\n",
        "                \"popularity\": item[\"track\"][\"popularity\"],\n",
        "            }\n",
        "```\n",
        "\n",
        "A nova estrutura fica da seguinte forma:\n",
        "\n",
        "```json\n",
        "{\n",
        "    \"BRWMB2100651\": {\n",
        "        \"name\": \"Cato Cato\",\n",
        "        \"added_at\": {\n",
        "            \"date\": \"20211122\",\n",
        "            \"hour\": \"124930\"\n",
        "        },\n",
        "        \"artists\": [\n",
        "            \"Nick Cruz\",\n",
        "            \"Urias\"\n",
        "        ],\n",
        "        \"duration_ms\": 179711,\n",
        "        \"explicit\": true,\n",
        "        \"popularity\": 41\n",
        "    }\n",
        "}\n",
        "```\n",
        "\n",
        "Por fim pegamos a próxima url com as 50 músicas seguintes. Quando o loop terminar salvamos o arquivo no formato json.\n",
        "\n",
        "```python\n",
        "        next_url = response[\"next\"]\n",
        "\n",
        "    with open(\"dataset.json\", \"w\") as file:\n",
        "        json.dump(data, file, indent=4, ensure_ascii=False)\n",
        "\n",
        "\n",
        "if __name__ == \"__main__\":\n",
        "    main()\n",
        "```\n",
        "\n",
        "[1]: https://developer.spotify.com/console/\n",
        "[2]: https://developer.spotify.com/console/get-current-user-saved-tracks/\n",
        "\n",
        "\n",
        "Após esta estrutura definida ainda foi necessário um outro processamento para inverter a estrutura agrupada para uma estrutura de listas (arrays). Para melhor trabalhar com os dados, foi criado um script de transformação na linguagem JavaScript, que recebendo o dataset foi capaz de gerar um dataset compatível com a estrutura de dados necessária. O script criado foi:  \n",
        "```\n",
        "const dataset = require(\"./dataset.json\");\n",
        "const fs = require(\"fs\");\n",
        "const result = Object.values(dataset).map((value) => ({\n",
        "  explicit: value.explicit ? 1 : 0,\n",
        "  popularity: value.popularity,\n",
        "  duration_ms: value.duration_ms,\n",
        "}));\n",
        "fs.writeFileSync(\"./dataset-parsed.json\", JSON.stringify(result));\n",
        "\n",
        "```\n",
        "O resultado da transformação pelo script gerou o dataset formatado da seguinte forma:   \n",
        "```\n",
        "[\n",
        "  {\n",
        "    \"duration_ms\": 237787,\n",
        "    \"explicit\": 0,\n",
        "    \"popularity\": 57,\n",
        "  },\n",
        "  ...\n",
        "]\n",
        "```"
      ]
    },
    {
      "cell_type": "markdown",
      "metadata": {
        "id": "1cqq7fSeqpMW"
      },
      "source": [
        ""
      ]
    },
    {
      "cell_type": "code",
      "metadata": {
        "id": "peS1d_IGsJ4P"
      },
      "source": [
        "# lendo o arquivo\n",
        "import pandas as pd\n",
        "tracks = pd.read_json('sample_data/dataset-parsed.json')"
      ],
      "execution_count": null,
      "outputs": []
    },
    {
      "cell_type": "code",
      "metadata": {
        "id": "nZURTLeFc3O8"
      },
      "source": [
        "# atribuindo e removendo o atributo alvo da lista\n",
        "popularities = tracks[\"popularity\"]\n",
        "del tracks[\"popularity\"]"
      ],
      "execution_count": null,
      "outputs": []
    },
    {
      "cell_type": "code",
      "metadata": {
        "id": "sFb5xJaPhu94"
      },
      "source": [
        "# definindo dados de treinamento e dados de teste\n",
        "from sklearn.model_selection import train_test_split\n",
        "X_train, X_test, Y_train, Y_test = train_test_split(tracks, popularities)"
      ],
      "execution_count": null,
      "outputs": []
    },
    {
      "cell_type": "markdown",
      "metadata": {
        "id": "Wyg2nADau2P5"
      },
      "source": [
        "## **Modelo 1 — Usando Gaussian Naive Bayes**\n"
      ]
    },
    {
      "cell_type": "code",
      "metadata": {
        "id": "0F316yPTBaoh"
      },
      "source": [
        "from sklearn.naive_bayes import GaussianNB\n",
        "gaussian_nb = GaussianNB()"
      ],
      "execution_count": null,
      "outputs": []
    },
    {
      "cell_type": "code",
      "metadata": {
        "colab": {
          "base_uri": "https://localhost:8080/"
        },
        "id": "JxRFQFInhvbx",
        "outputId": "6b60530c-368b-43f2-bc7f-cd3c7bd7287f"
      },
      "source": [
        "gaussian_nb.fit(X_train.values, Y_train.values)"
      ],
      "execution_count": null,
      "outputs": [
        {
          "output_type": "execute_result",
          "data": {
            "text/plain": [
              "GaussianNB()"
            ]
          },
          "metadata": {},
          "execution_count": 100
        }
      ]
    },
    {
      "cell_type": "code",
      "metadata": {
        "colab": {
          "base_uri": "https://localhost:8080/"
        },
        "id": "nU6k1C_tk878",
        "outputId": "95ac1661-9d4a-49c1-9c11-0d67f1b13ec1"
      },
      "source": [
        "gaussian_nb.score(X_test.values, Y_test.values)"
      ],
      "execution_count": null,
      "outputs": [
        {
          "output_type": "execute_result",
          "data": {
            "text/plain": [
              "0.027960526315789474"
            ]
          },
          "metadata": {},
          "execution_count": 99
        }
      ]
    },
    {
      "cell_type": "markdown",
      "metadata": {
        "id": "oLsjsKlBvuu5"
      },
      "source": [
        "**Score: 0.027960526315789474**"
      ]
    },
    {
      "cell_type": "markdown",
      "metadata": {
        "id": "TXPwZarhwT5s"
      },
      "source": [
        "## **Modelo 2 — Usando Linear Regression**"
      ]
    },
    {
      "cell_type": "code",
      "metadata": {
        "id": "JjL2xpMcwT5s"
      },
      "source": [
        "from sklearn.linear_model import LinearRegression\n",
        "linear_regression = LinearRegression()"
      ],
      "execution_count": null,
      "outputs": []
    },
    {
      "cell_type": "code",
      "metadata": {
        "colab": {
          "base_uri": "https://localhost:8080/"
        },
        "id": "_3hRLXckwT5t",
        "outputId": "849991ce-6a74-4dc8-ca8f-c019e355d3a1"
      },
      "source": [
        "linear_regression.fit(X_train.values, Y_train.values)"
      ],
      "execution_count": null,
      "outputs": [
        {
          "output_type": "execute_result",
          "data": {
            "text/plain": [
              "LinearRegression()"
            ]
          },
          "metadata": {},
          "execution_count": 115
        }
      ]
    },
    {
      "cell_type": "code",
      "metadata": {
        "colab": {
          "base_uri": "https://localhost:8080/"
        },
        "id": "sO4i-ZobwT5t",
        "outputId": "f4ae30ed-7a86-440c-9732-3be43853bc99"
      },
      "source": [
        "linear_regression.score(X_test.values, Y_test.values)"
      ],
      "execution_count": null,
      "outputs": [
        {
          "output_type": "execute_result",
          "data": {
            "text/plain": [
              "-0.012800855404665912"
            ]
          },
          "metadata": {},
          "execution_count": 116
        }
      ]
    },
    {
      "cell_type": "markdown",
      "metadata": {
        "id": "HX_mp1hfwT5t"
      },
      "source": [
        "**Score: -0.012800855404665912**"
      ]
    },
    {
      "cell_type": "markdown",
      "metadata": {
        "id": "OOvB4Zwjw_oA"
      },
      "source": [
        "## **Modelo 3 — Usando LogisticRegression**\n"
      ]
    },
    {
      "cell_type": "code",
      "metadata": {
        "id": "3e6pL0_zxNyE"
      },
      "source": [
        "from sklearn.linear_model import LogisticRegression\n",
        "logistic_regression = LogisticRegression()"
      ],
      "execution_count": null,
      "outputs": []
    },
    {
      "cell_type": "code",
      "metadata": {
        "colab": {
          "base_uri": "https://localhost:8080/"
        },
        "id": "lxgByasHxQmo",
        "outputId": "6ea61e20-c308-4b28-df2e-15bf599f06da"
      },
      "source": [
        "logistic_regression.fit(X_train.values, Y_train.values)"
      ],
      "execution_count": null,
      "outputs": [
        {
          "output_type": "execute_result",
          "data": {
            "text/plain": [
              "LogisticRegression()"
            ]
          },
          "metadata": {},
          "execution_count": 109
        }
      ]
    },
    {
      "cell_type": "code",
      "metadata": {
        "colab": {
          "base_uri": "https://localhost:8080/"
        },
        "id": "nENg51zQxSFS",
        "outputId": "885613d1-fa16-438b-8966-2ca3ba09c4d3"
      },
      "source": [
        "logistic_regression.score(X_test.values, Y_test.values)"
      ],
      "execution_count": null,
      "outputs": [
        {
          "output_type": "execute_result",
          "data": {
            "text/plain": [
              "0.03782894736842105"
            ]
          },
          "metadata": {},
          "execution_count": 110
        }
      ]
    },
    {
      "cell_type": "markdown",
      "metadata": {
        "id": "WlI3rja5xUWm"
      },
      "source": [
        "**Score: 0.03782894736842105**"
      ]
    },
    {
      "cell_type": "markdown",
      "metadata": {
        "id": "yS6P-FvEzKxX"
      },
      "source": [
        "## **Modelo 4 — Usando SGDClassifier**\n"
      ]
    },
    {
      "cell_type": "code",
      "metadata": {
        "id": "KojvlxfszWbe"
      },
      "source": [
        "from sklearn.linear_model import SGDClassifier\n",
        "sgdc = SGDClassifier()"
      ],
      "execution_count": null,
      "outputs": []
    },
    {
      "cell_type": "code",
      "metadata": {
        "colab": {
          "base_uri": "https://localhost:8080/"
        },
        "id": "wm69NY4EzX1i",
        "outputId": "38f49786-84f4-43b9-bf35-9a1c23ce7645"
      },
      "source": [
        "sgdc.fit(X_train.values, Y_train.values)"
      ],
      "execution_count": null,
      "outputs": [
        {
          "output_type": "execute_result",
          "data": {
            "text/plain": [
              "SGDClassifier()"
            ]
          },
          "metadata": {},
          "execution_count": 112
        }
      ]
    },
    {
      "cell_type": "code",
      "metadata": {
        "colab": {
          "base_uri": "https://localhost:8080/"
        },
        "id": "LiHrtBBkzY-y",
        "outputId": "c40736c4-7460-4829-bbc8-a8472a3e157a"
      },
      "source": [
        "sgdc.score(X_test.values, Y_test.values)"
      ],
      "execution_count": null,
      "outputs": [
        {
          "output_type": "execute_result",
          "data": {
            "text/plain": [
              "0.02138157894736842"
            ]
          },
          "metadata": {},
          "execution_count": 113
        }
      ]
    },
    {
      "cell_type": "markdown",
      "metadata": {
        "id": "cQ9m32hFzdLX"
      },
      "source": [
        " **Score: 0.02138157894736842**"
      ]
    },
    {
      "cell_type": "markdown",
      "metadata": {
        "id": "rocymkma7rOS"
      },
      "source": [
        "# Avaliação dos resultados\n",
        "\n",
        "Todos os modelos retornaram resultados com pouca acurácia, porém o com pior resultado foi o `Linear Regression` e o de melhor foi o `Logistic Regression`. Talvez pela relação dos dados não serem exclusivamente entre duas variáveis fez com que o modelo de regressão linear não conseguisse prever corretamente.\n",
        "\n",
        "Por esses resultados entendemos que os dados que usamos de insumo para tentar realizar as predições possuem pouca relação, ou seja, acabamos descobrindo que não tem muita relação entra a musica ser explicita e sua duração para definir sua popularidade. Deve haver uma série de outros atributos que influenciam muito mais e esse seria um dos motivos dos dais os classificadores funcionaram tão mal."
      ]
    }
  ]
}